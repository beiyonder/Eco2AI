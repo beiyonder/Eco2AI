{
 "cells": [
  {
   "cell_type": "code",
   "execution_count": 1,
   "metadata": {},
   "outputs": [
    {
     "name": "stderr",
     "output_type": "stream",
     "text": [
      "/Users/korovin/Documents/GitHub/eco2AI/Eco2AI/eco2ai/emission_track.py:140: UserWarning: \n",
      "If you use a VPN, you may have problems with identifying your country by IP.\n",
      "It is recommended to disable VPN or\n",
      "manually set up the ISO-Alpha-2 code of your country during initialization of the Tracker() class.\n",
      "You can find the ISO-Alpha-2 code of your country here: https://www.iban.com/country-codes\n",
      "\n",
      "  warnings.warn(\n",
      "/Users/korovin/Documents/GitHub/eco2AI/Eco2AI/eco2ai/tools/tools_gpu.py:42: NoGPUWarning: There is no any available GPU devices or your GPU is not supported by Nvidia library!\n",
      "The tracker will consider CPU usage only\n",
      "  warnings.warn(\n"
     ]
    }
   ],
   "source": [
    "import eco2ai\n",
    "\n",
    "tracker = eco2ai.Tracker(project_name=\"YourProjectName\", experiment_description=\"training the <your model> model\")\n",
    "\n",
    "tracker.start()\n",
    "\n",
    "for ii in range(100):\n",
    "    ii**0.52\n",
    "\n",
    "tracker.stop()"
   ]
  },
  {
   "cell_type": "code",
   "execution_count": null,
   "metadata": {},
   "outputs": [],
   "source": []
  }
 ],
 "metadata": {
  "kernelspec": {
   "display_name": "venv",
   "language": "python",
   "name": "python3"
  },
  "language_info": {
   "codemirror_mode": {
    "name": "ipython",
    "version": 3
   },
   "file_extension": ".py",
   "mimetype": "text/x-python",
   "name": "python",
   "nbconvert_exporter": "python",
   "pygments_lexer": "ipython3",
   "version": "3.13.0"
  }
 },
 "nbformat": 4,
 "nbformat_minor": 2
}
